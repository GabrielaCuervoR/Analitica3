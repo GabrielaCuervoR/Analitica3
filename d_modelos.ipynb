{
  "cells": [
    {
      "cell_type": "code",
      "execution_count": 10,
      "metadata": {
        "id": "BpDO5fseyHPI"
      },
      "outputs": [],
      "source": [
        "#### Importar librerias necesarias  ###\n",
        "\n",
        "import pandas as pd\n",
        "import numpy as np\n",
        "import seaborn as sns\n",
        "import matplotlib.pyplot as plt\n",
        "from sklearn.metrics import accuracy_score\n",
        "from sklearn.linear_model import Ridge, RidgeCV\n",
        "from sklearn.impute import SimpleImputer\n",
        "from sklearn.preprocessing import OneHotEncoder, StandardScaler\n",
        "from sklearn.compose import ColumnTransformer\n",
        "from sklearn.metrics import mean_absolute_error, mean_squared_error, r2_score, mean_absolute_percentage_error, f1_score\n",
        "from sklearn.preprocessing import LabelEncoder\n",
        "import sqlite3 as sql\n",
        "from sklearn.linear_model import LogisticRegression\n",
        "from sklearn import svm, tree, metrics\n",
        "from sklearn.ensemble import RandomForestClassifier ##Ensamble con bagging\n",
        "from sklearn.ensemble import GradientBoostingClassifier ###Ensamble boosting\n",
        "from sklearn.model_selection import cross_val_predict, cross_val_score, cross_validate, train_test_split, RandomizedSearchCV\n",
        "from sklearn.feature_selection import SelectFromModel\n",
        "from sklearn.model_selection import GridSearchCV\n",
        "import joblib  ### para guardar modelos\n",
        "from sklearn.metrics import confusion_matrix, ConfusionMatrixDisplay\n",
        "import openpyxl\n",
        "%matplotlib inline\n",
        "\n",
        "\n",
        "# ==============================================================================\n",
        "####### 1. Se llama a la base de datos a trabajar\n",
        "####### 2. Se verifican datos nulos y faltantes\n",
        "####### 3. Se imputan nulos y se eliminan variables de una sola categoria\n",
        "####### 4. Se transforma la variable objetivo a numérica\n",
        "####### 5. Se dejan todas las variables numéricas en formato int\n",
        "####### 6. Variables dummis\n",
        "####### 7. Creación de modelos\n",
        "####### 8. Selección de variables\n",
        "####### 9. Afinamiento de hiperparámetros mejor modelo\n",
        "####### 10. Creación de modelo afinado\n",
        "####### 11. Entramiento del modelo\n",
        "####### 12. Importancia de las variables\n",
        "####### 13. Métricas de desempeño\n",
        "####### 14. Matriz de confusión\n",
        "# ======================================================================"
      ]
    },
    {
      "cell_type": "code",
      "execution_count": 11,
      "metadata": {},
      "outputs": [],
      "source": [
        "%run a_funciones.ipynb #Traer todo del archivo de funciones"
      ]
    },
    {
      "cell_type": "code",
      "execution_count": 12,
      "metadata": {},
      "outputs": [],
      "source": [
        "conn= sql.connect(\"db_empleados\")"
      ]
    },
    {
      "cell_type": "code",
      "execution_count": 14,
      "metadata": {
        "id": "ndt6sRcXyN1T"
      },
      "outputs": [],
      "source": [
        "cur= conn.cursor()\n",
        "ejecutar_sql('preprocesamiento.sql', cur)"
      ]
    },
    {
      "cell_type": "code",
      "execution_count": 15,
      "metadata": {
        "id": "kcSWSMwVyPOr"
      },
      "outputs": [],
      "source": [
        "df2=pd.read_sql(\"select * from base_nueva\", conn)\n",
        "df2 = df2.drop(columns=['index'], axis=1)##Se elimina la columna index que por defecto la sube sql"
      ]
    },
    {
      "cell_type": "code",
      "execution_count": 17,
      "metadata": {
        "id": "P1R_H2bByTQC"
      },
      "outputs": [],
      "source": [
        "df2.isnull().sum() #Mirar la cantidad de nulos de cada variable\n",
        "\n",
        "### imputación y eliminación de varibles\n",
        "# ==============================================================================\n",
        "list_cat=['EnvironmentSatisfaction','JobSatisfaction','WorkLifeBalance']\n",
        "list_num=['NumCompaniesWorked','TotalWorkingYears']\n",
        "\n",
        "imputar_fc(df2,list_cat)\n",
        "imputar_fn(df2,list_num)\n",
        "df2 = df2.drop(['Over18','EmployeeCount'], axis = 1) #eliminación de variables de una sola categoria"
      ]
    },
    {
      "cell_type": "code",
      "execution_count": 18,
      "metadata": {
        "colab": {
          "base_uri": "https://localhost:8080/"
        },
        "id": "kMmSORPG0H16",
        "outputId": "c7ba5d52-50d8-4cf3-cd2d-f9cfd6eac020"
      },
      "outputs": [
        {
          "name": "stdout",
          "output_type": "stream",
          "text": [
            "[0 1 0 0 0]\n",
            "['No' 'Yes']\n"
          ]
        }
      ],
      "source": [
        "df2.isnull().sum() #se verifica que quede completa\n",
        "\n",
        "### Transformación de variable objetivo\n",
        "# ==============================================================================\n",
        "df2['Attrition'] = df2['Attrition'].fillna('No') #se rellenan los nulos de la variable objetivo por No\n",
        "df2['Attrition'].value_counts()\n",
        "\n",
        "#### preparación de los datos\n",
        "# ==============================================================================\n",
        "y = df2.Attrition ##Variable Objetivo\n",
        "le = LabelEncoder()\n",
        "y = le.fit_transform(y)\n",
        "\n",
        "print(y[0:5])\n",
        "\n",
        "print(le.classes_)\n",
        "\n",
        "df2['Attrition'] = y\n"
      ]
    },
    {
      "cell_type": "code",
      "execution_count": 19,
      "metadata": {
        "id": "tKoIoJ2B1LZ-"
      },
      "outputs": [],
      "source": [
        "df2.EnvironmentSatisfaction = df2.EnvironmentSatisfaction.astype(int)\n",
        "df2.JobSatisfaction  = df2.JobSatisfaction.astype(int)\n",
        "df2.WorkLifeBalance = df2.WorkLifeBalance.astype(int)\n",
        "df2.NumCompaniesWorked = df2.NumCompaniesWorked.astype(int)\n",
        "df2.TotalWorkingYears = df2.TotalWorkingYears.astype(int)\n",
        "\n",
        "#### Variables dummies\n",
        "# ==============================================================================\n",
        "df3=df2.copy()\n",
        "list_dummies=['BusinessTravel','Department','EducationField','Gender','JobRole','MaritalStatus']\n",
        "df_dummies=pd.get_dummies(df3,columns=list_dummies)\n",
        "\n",
        "y=df_dummies.Attrition\n",
        "X1= df_dummies.loc[:,~df_dummies.columns.isin(['Attrition','EmployeeID'])]\n",
        "scaler=StandardScaler()\n",
        "scaler.fit(X1)\n",
        "X2=scaler.transform(X1)\n",
        "X=pd.DataFrame(X2,columns=X1.columns)\n"
      ]
    },
    {
      "cell_type": "code",
      "execution_count": 20,
      "metadata": {
        "id": "Q1eSQvpY1SDV"
      },
      "outputs": [],
      "source": [
        "m_log = LogisticRegression(max_iter=1000,random_state=42, class_weight='balanced')\n",
        "m_rf= RandomForestClassifier(random_state=42, class_weight='balanced')\n",
        "m_tc = tree.DecisionTreeClassifier(random_state=42, class_weight='balanced')\n",
        "m_gbt=GradientBoostingClassifier(random_state=42)\n",
        "\n",
        "\n",
        "modelos=list([m_log, m_rf, m_tc, m_gbt])"
      ]
    },
    {
      "cell_type": "code",
      "execution_count": 22,
      "metadata": {
        "colab": {
          "base_uri": "https://localhost:8080/"
        },
        "id": "xYqfE0dL1hk-",
        "outputId": "afbf5938-7508-4998-bf65-77124ee4137a"
      },
      "outputs": [
        {
          "name": "stdout",
          "output_type": "stream",
          "text": [
            "<class 'pandas.core.frame.DataFrame'>\n",
            "RangeIndex: 4410 entries, 0 to 4409\n",
            "Data columns (total 12 columns):\n",
            " #   Column                   Non-Null Count  Dtype  \n",
            "---  ------                   --------------  -----  \n",
            " 0   Age                      4410 non-null   float64\n",
            " 1   DistanceFromHome         4410 non-null   float64\n",
            " 2   JobSatisfaction          4410 non-null   float64\n",
            " 3   MaritalStatus_Single     4410 non-null   float64\n",
            " 4   MonthlyIncome            4410 non-null   float64\n",
            " 5   NumCompaniesWorked       4410 non-null   float64\n",
            " 6   PercentSalaryHike        4410 non-null   float64\n",
            " 7   TotalWorkingYears        4410 non-null   float64\n",
            " 8   TrainingTimesLastYear    4410 non-null   float64\n",
            " 9   YearsAtCompany           4410 non-null   float64\n",
            " 10  YearsSinceLastPromotion  4410 non-null   float64\n",
            " 11  YearsWithCurrManager     4410 non-null   float64\n",
            "dtypes: float64(12)\n",
            "memory usage: 413.6 KB\n"
          ]
        }
      ],
      "source": [
        "### selección de variables\n",
        "# ==============================================================================\n",
        "var_names= sel_variables(modelos,X,y,threshold=\"2.35*mean\") #se decide usar el 2.35 mean para tener solo 10 variables en el modelo\n",
        "var_names.shape\n",
        "\n",
        "modelo=modelos[0]\n",
        "modelo.fit(X,y)\n",
        "\n",
        "X2=X[var_names] ### matriz con variables seleccionadas\n",
        "X2.info()\n",
        "\n",
        "acc_df = medir_modelos(modelos,\"f1\",X,y,2) ## base con todas las variables\n",
        "acc_varsel= medir_modelos(modelos,\"f1\",X2,y,2) ### base con variables seleccionadas\n",
        "\n",
        "acc=pd.concat([acc_df,acc_varsel],axis=1)\n",
        "acc.columns=['log', 'rf', 'tc','gbt',\n",
        "       'log_sel','rf_sel', 'tc_sel','gb_sel']"
      ]
    },
    {
      "cell_type": "code",
      "execution_count": 23,
      "metadata": {
        "id": "ixpPC2ow1jW2"
      },
      "outputs": [],
      "source": [
        "##### afinamiento de hiperparametros\n",
        "# ==============================================================================\n",
        "# Separación en conjuntos de entrenamiento y validación con 80% de muestras para entrenamiento\n",
        "X_train, X_test, y_train, y_test = train_test_split(X2, y, test_size=0.2, random_state=42)\n",
        "\n",
        "# Definición de cuadricula de hiperparametros\n",
        "parameters = {'n_estimators': [20,40,80,100,150],\n",
        "              'max_depth':[10,12,14,15,16],\n",
        "              'max_leaf_nodes': [50,70,100, 300]}\n"
      ]
    },
    {
      "cell_type": "code",
      "execution_count": 24,
      "metadata": {
        "colab": {
          "base_uri": "https://localhost:8080/"
        },
        "id": "CF3z6Iqz1rKt",
        "outputId": "db4835f9-a4c7-4211-8aa2-0546bb22fb84"
      },
      "outputs": [
        {
          "name": "stdout",
          "output_type": "stream",
          "text": [
            "Best Params:  {'max_depth': 14, 'max_leaf_nodes': 300, 'n_estimators': 100}\n",
            "Best Score:  0.9295779212079612\n",
            "F1:0.99\n"
          ]
        }
      ],
      "source": [
        "#Definición del modelo\n",
        "# ==============================================================================\n",
        "rfc = RandomForestClassifier(random_state=42, class_weight='balanced')\n",
        "\n",
        "grid_search = GridSearchCV(rfc, parameters, cv=5, scoring='f1', n_jobs=-1)\n",
        "grid_result = grid_search.fit(X_train, y_train)\n",
        "\n",
        "print('Best Params: ', grid_result.best_params_)\n",
        "print('Best Score: ', grid_result.best_score_)\n",
        "\n",
        "bestModel_rfc=grid_result.best_estimator_\n",
        "print(\"F1:{:.2f}\".format(bestModel_rfc.score(X_test,y_test)))\n"
      ]
    },
    {
      "cell_type": "code",
      "execution_count": 25,
      "metadata": {
        "id": "1pDAXDgc7OUu"
      },
      "outputs": [],
      "source": [
        "importancia = bestModel_rfc.feature_importances_\n",
        "importancia = pd.DataFrame(importancia, columns=['Importancia'])"
      ]
    },
    {
      "cell_type": "code",
      "execution_count": 26,
      "metadata": {
        "id": "e7c6LLYe47Pa"
      },
      "outputs": [],
      "source": [
        "X3 = pd.DataFrame(X2.columns, columns=['Variables'])"
      ]
    },
    {
      "cell_type": "code",
      "execution_count": 27,
      "metadata": {
        "id": "D7rmh2b02zhS"
      },
      "outputs": [],
      "source": [
        "\n",
        "# Concatenar las Series al DataFrame X2\n",
        "X2_con_importancias = pd.concat([X3, importancia], axis=1)"
      ]
    },
    {
      "cell_type": "code",
      "execution_count": 28,
      "metadata": {
        "colab": {
          "base_uri": "https://localhost:8080/",
          "height": 426
        },
        "id": "rndzcaSK_2KD",
        "outputId": "b449e7f7-cd60-4a8a-f99c-e50a72f2f668"
      },
      "outputs": [
        {
          "data": {
            "text/html": [
              "<div>\n",
              "<style scoped>\n",
              "    .dataframe tbody tr th:only-of-type {\n",
              "        vertical-align: middle;\n",
              "    }\n",
              "\n",
              "    .dataframe tbody tr th {\n",
              "        vertical-align: top;\n",
              "    }\n",
              "\n",
              "    .dataframe thead th {\n",
              "        text-align: right;\n",
              "    }\n",
              "</style>\n",
              "<table border=\"1\" class=\"dataframe\">\n",
              "  <thead>\n",
              "    <tr style=\"text-align: right;\">\n",
              "      <th></th>\n",
              "      <th>Variables</th>\n",
              "      <th>Importancia</th>\n",
              "    </tr>\n",
              "  </thead>\n",
              "  <tbody>\n",
              "    <tr>\n",
              "      <th>4</th>\n",
              "      <td>MonthlyIncome</td>\n",
              "      <td>0.131074</td>\n",
              "    </tr>\n",
              "    <tr>\n",
              "      <th>0</th>\n",
              "      <td>Age</td>\n",
              "      <td>0.126457</td>\n",
              "    </tr>\n",
              "    <tr>\n",
              "      <th>7</th>\n",
              "      <td>TotalWorkingYears</td>\n",
              "      <td>0.105159</td>\n",
              "    </tr>\n",
              "    <tr>\n",
              "      <th>1</th>\n",
              "      <td>DistanceFromHome</td>\n",
              "      <td>0.096512</td>\n",
              "    </tr>\n",
              "    <tr>\n",
              "      <th>9</th>\n",
              "      <td>YearsAtCompany</td>\n",
              "      <td>0.090889</td>\n",
              "    </tr>\n",
              "    <tr>\n",
              "      <th>6</th>\n",
              "      <td>PercentSalaryHike</td>\n",
              "      <td>0.082525</td>\n",
              "    </tr>\n",
              "    <tr>\n",
              "      <th>11</th>\n",
              "      <td>YearsWithCurrManager</td>\n",
              "      <td>0.072880</td>\n",
              "    </tr>\n",
              "    <tr>\n",
              "      <th>5</th>\n",
              "      <td>NumCompaniesWorked</td>\n",
              "      <td>0.067810</td>\n",
              "    </tr>\n",
              "    <tr>\n",
              "      <th>8</th>\n",
              "      <td>TrainingTimesLastYear</td>\n",
              "      <td>0.062853</td>\n",
              "    </tr>\n",
              "    <tr>\n",
              "      <th>2</th>\n",
              "      <td>JobSatisfaction</td>\n",
              "      <td>0.061096</td>\n",
              "    </tr>\n",
              "    <tr>\n",
              "      <th>10</th>\n",
              "      <td>YearsSinceLastPromotion</td>\n",
              "      <td>0.057975</td>\n",
              "    </tr>\n",
              "    <tr>\n",
              "      <th>3</th>\n",
              "      <td>MaritalStatus_Single</td>\n",
              "      <td>0.044770</td>\n",
              "    </tr>\n",
              "  </tbody>\n",
              "</table>\n",
              "</div>"
            ],
            "text/plain": [
              "                  Variables  Importancia\n",
              "4             MonthlyIncome     0.131074\n",
              "0                       Age     0.126457\n",
              "7         TotalWorkingYears     0.105159\n",
              "1          DistanceFromHome     0.096512\n",
              "9            YearsAtCompany     0.090889\n",
              "6         PercentSalaryHike     0.082525\n",
              "11     YearsWithCurrManager     0.072880\n",
              "5        NumCompaniesWorked     0.067810\n",
              "8     TrainingTimesLastYear     0.062853\n",
              "2           JobSatisfaction     0.061096\n",
              "10  YearsSinceLastPromotion     0.057975\n",
              "3      MaritalStatus_Single     0.044770"
            ]
          },
          "execution_count": 28,
          "metadata": {},
          "output_type": "execute_result"
        }
      ],
      "source": [
        "X2_con_importancias.sort_values(by=['Importancia'], ascending=False)"
      ]
    },
    {
      "cell_type": "code",
      "execution_count": 29,
      "metadata": {
        "colab": {
          "base_uri": "https://localhost:8080/",
          "height": 831
        },
        "id": "Oh_lRiA71yJu",
        "outputId": "f5deaff3-9026-4aac-ffbf-234b7dd9afef"
      },
      "outputs": [
        {
          "name": "stdout",
          "output_type": "stream",
          "text": [
            "Train - Accuracy : 1.0\n",
            "Train - classification report:\n",
            "               precision    recall  f1-score   support\n",
            "\n",
            "           0       1.00      1.00      1.00      2958\n",
            "           1       1.00      1.00      1.00       570\n",
            "\n",
            "    accuracy                           1.00      3528\n",
            "   macro avg       1.00      1.00      1.00      3528\n",
            "weighted avg       1.00      1.00      1.00      3528\n",
            "\n",
            "Test - Accuracy : 0.9920634920634921\n",
            "Test - classification report :               precision    recall  f1-score   support\n",
            "\n",
            "           0       0.99      1.00      1.00       741\n",
            "           1       1.00      0.95      0.97       141\n",
            "\n",
            "    accuracy                           0.99       882\n",
            "   macro avg       1.00      0.98      0.98       882\n",
            "weighted avg       0.99      0.99      0.99       882\n",
            "\n"
          ]
        },
        {
          "data": {
            "text/plain": [
              "<Figure size 792x792 with 0 Axes>"
            ]
          },
          "metadata": {},
          "output_type": "display_data"
        },
        {
          "data": {
            "image/png": "[encoded data removed]",
            "text/plain": [
              "<Figure size 432x288 with 2 Axes>"
            ]
          },
          "metadata": {
            "needs_background": "light"
          },
          "output_type": "display_data"
        }
      ],
      "source": [
        "# Métricas de desempeño\n",
        "# ==============================================================================\n",
        "print (\"Train - Accuracy :\", metrics.accuracy_score(y_train, bestModel_rfc.predict(X_train)))\n",
        "print (\"Train - classification report:\\n\", metrics.classification_report(y_train, bestModel_rfc.predict(X_train)))\n",
        "print (\"Test - Accuracy :\", metrics.accuracy_score(y_test, bestModel_rfc.predict(X_test)))\n",
        "print (\"Test - classification report :\", metrics.classification_report(y_test, bestModel_rfc.predict(X_test)))\n",
        "\n",
        "\n",
        "# Matriz de confusión\n",
        "# ==============================================================================\n",
        "y_hat=bestModel_rfc.predict(X_test)\n",
        "fig = plt.figure(figsize=(11,11))\n",
        "cm = confusion_matrix(y_test,y_hat, labels=bestModel_rfc.classes_)\n",
        "disp = ConfusionMatrixDisplay(confusion_matrix = cm, display_labels=bestModel_rfc.classes_)\n",
        "disp.plot(cmap='gist_earth')\n",
        "plt.show()\n"
      ]
    },
    {
      "cell_type": "code",
      "execution_count": 30,
      "metadata": {
        "id": "9wD-5pqP_F0g"
      },
      "outputs": [],
      "source": [
        "importancia.to_excel(\"feature_importances.xlsx\")"
      ]
    },
    {
      "cell_type": "code",
      "execution_count": 31,
      "metadata": {
        "id": "xpuih2AtCTcm"
      },
      "outputs": [],
      "source": [
        "joblib.dump(bestModel_rfc, \"bestModel_rfc.pkl\") ##  Modelo final con variables seleccionadas\n",
        "joblib.dump(m_rf, \"m_rf.pkl\") ## Modelo con todas las variables\n",
        "joblib.dump(list_cat, \"list_cat.pkl\") ### para realizar imputacion variables categóricas\n",
        "joblib.dump(list_num, \"list_num.pkl\") ### para realizar imputacion variables numéricas\n",
        "joblib.dump(list_dummies, \"list_dummies.pkl\")  ### para convertir a dummies\n",
        "joblib.dump(var_names, \"var_names.pkl\")  ### para variables con que se entrena modelo\n",
        "joblib.dump(scaler, \"scaler.pkl\") ##\n",
        "\n",
        "\n",
        "bestModel_rfc = joblib.load(\"bestModel_rfc.pkl\")\n",
        "m_rf = joblib.load(\"m_rf.pkl\")\n",
        "list_cat=joblib.load(\"list_cat.pkl\")\n",
        "list_num=joblib.load(\"list_num.pkl\")\n",
        "list_dummies=joblib.load(\"list_dummies.pkl\")\n",
        "var_names=joblib.load(\"var_names.pkl\")\n",
        "scaler=joblib.load(\"scaler.pkl\")\n"
      ]
    }
  ],
  "metadata": {
    "colab": {
      "provenance": []
    },
    "kernelspec": {
      "display_name": "Python 3",
      "name": "python3"
    },
    "language_info": {
      "codemirror_mode": {
        "name": "ipython",
        "version": 3
      },
      "file_extension": ".py",
      "mimetype": "text/x-python",
      "name": "python",
      "nbconvert_exporter": "python",
      "pygments_lexer": "ipython3",
      "version": "3.9.12"
    }
  },
  "nbformat": 4,
  "nbformat_minor": 0
}
