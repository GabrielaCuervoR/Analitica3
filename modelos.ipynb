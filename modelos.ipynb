{
  "nbformat": 4,
  "nbformat_minor": 0,
  "metadata": {
    "colab": {
      "provenance": []
    },
    "kernelspec": {
      "name": "python3",
      "display_name": "Python 3"
    },
    "language_info": {
      "name": "python"
    }
  },
  "cells": [
    {
      "cell_type": "code",
      "source": [
        "#### Importar librerias necesarias  ###\n",
        "\n",
        "import pandas as pd\n",
        "import numpy as np\n",
        "import seaborn as sns\n",
        "import matplotlib.pyplot as plt\n",
        "from sklearn.metrics import accuracy_score\n",
        "from sklearn.linear_model import Ridge, RidgeCV\n",
        "from sklearn.impute import SimpleImputer\n",
        "from sklearn.preprocessing import OneHotEncoder, StandardScaler\n",
        "from sklearn.compose import ColumnTransformer\n",
        "from sklearn.metrics import mean_absolute_error, mean_squared_error, r2_score, mean_absolute_percentage_error, f1_score\n",
        "from sklearn.preprocessing import LabelEncoder\n",
        "import sqlite3 as sql\n",
        "from sklearn.linear_model import LogisticRegression\n",
        "from sklearn import svm, tree, metrics\n",
        "from sklearn.ensemble import RandomForestClassifier ##Ensamble con bagging\n",
        "from sklearn.ensemble import GradientBoostingClassifier ###Ensamble boosting\n",
        "from sklearn.model_selection import cross_val_predict, cross_val_score, cross_validate, train_test_split, RandomizedSearchCV\n",
        "from sklearn.feature_selection import SelectFromModel\n",
        "from sklearn.model_selection import GridSearchCV\n",
        "import joblib  ### para guardar modelos\n",
        "import a_funciones as funciones\n",
        "from sklearn.metrics import confusion_matrix, ConfusionMatrixDisplay\n",
        "import openpyxl\n",
        "%matplotlib inline"
      ],
      "metadata": {
        "id": "BpDO5fseyHPI"
      },
      "execution_count": 1,
      "outputs": []
    },
    {
      "cell_type": "code",
      "execution_count": 2,
      "metadata": {
        "id": "uqBVpNZHx6A3"
      },
      "outputs": [],
      "source": [
        "##Se cargan las bases de datos almacenadas en el github\n",
        "df_data= 'https://raw.githubusercontent.com/GabrielaCuervoR/Analitica3/main/Data/general_data.csv'\n",
        "df_retiros= 'https://raw.githubusercontent.com/GabrielaCuervoR/Analitica3/main/Data/retirement_info.csv'\n",
        "df_employee= 'https://raw.githubusercontent.com/GabrielaCuervoR/Analitica3/main/Data/employee_survey_data.csv'\n",
        "df_manager= 'https://raw.githubusercontent.com/GabrielaCuervoR/Analitica3/main/Data/manager_survey_data.csv'"
      ]
    },
    {
      "cell_type": "code",
      "source": [
        "##Se leen la base de datos con la información arreglada\n",
        "df_data=pd.read_csv(df_data, sep= ';' )\n",
        "df_retiros=pd.read_csv(df_retiros, sep=';')\n",
        "df_employee=pd.read_csv(df_employee)\n",
        "df_manager=pd.read_csv(df_manager)"
      ],
      "metadata": {
        "id": "5bhJGA16yJWT"
      },
      "execution_count": 3,
      "outputs": []
    },
    {
      "cell_type": "code",
      "source": [
        "conn= sql.connect(\"db_empleados\") ## Con este comando se crea la base de datos o si ya existe se conecta\n",
        "\n",
        "df_employee.to_sql(\"employee_survey_data\",conn,if_exists=\"replace\")\n",
        "df_data.to_sql(\"general_data\",conn,if_exists=\"replace\")\n",
        "df_manager.to_sql(\"manager_survey_data\",conn,if_exists=\"replace\")\n",
        "df_retiros.to_sql(\"retirement_info\",conn,if_exists=\"replace\")"
      ],
      "metadata": {
        "colab": {
          "base_uri": "https://localhost:8080/"
        },
        "id": "6bkldI2ByKdM",
        "outputId": "a1422225-8585-46c2-8738-688bbbe998f8"
      },
      "execution_count": 4,
      "outputs": [
        {
          "output_type": "execute_result",
          "data": {
            "text/plain": [
              "711"
            ]
          },
          "metadata": {},
          "execution_count": 4
        }
      ]
    },
    {
      "cell_type": "code",
      "source": [
        "cur= conn.cursor()\n",
        "funciones.ejecutar_sql('preprocesamiento.sql', cur)"
      ],
      "metadata": {
        "id": "ndt6sRcXyN1T"
      },
      "execution_count": 5,
      "outputs": []
    },
    {
      "cell_type": "code",
      "source": [
        "df2=pd.read_sql(\"select * from base_nueva\", conn)\n",
        "df2 = df2.drop(columns=['index'], axis=1)##Se elimina la columna index que por defecto la sube sql"
      ],
      "metadata": {
        "id": "kcSWSMwVyPOr"
      },
      "execution_count": 6,
      "outputs": []
    },
    {
      "cell_type": "code",
      "source": [
        "df2.isnull().sum() #Mirar la cantidad de nulos de cada variable\n",
        "\n",
        "### imputación y eliminación de varibles\n",
        "# ==============================================================================\n",
        "list_cat=['EnvironmentSatisfaction','JobSatisfaction','WorkLifeBalance']\n",
        "list_num=['NumCompaniesWorked','TotalWorkingYears']\n",
        "\n",
        "funciones.imputar_fc(df2,list_cat)\n",
        "funciones.imputar_fn(df2,list_num)\n",
        "df2 = df2.drop(['Over18','EmployeeCount'], axis = 1) #eliminación de variables de una sola categoria"
      ],
      "metadata": {
        "id": "P1R_H2bByTQC"
      },
      "execution_count": 7,
      "outputs": []
    },
    {
      "cell_type": "code",
      "source": [
        "df2.isnull().sum() #se verifica que quede completa\n",
        "\n",
        "### Transformación de variable objetivo\n",
        "# ==============================================================================\n",
        "df2['Attrition'] = df2['Attrition'].fillna('No') #se rellenan los nulos de la variable objetivo por No\n",
        "df2['Attrition'].value_counts()\n",
        "\n",
        "#### preparación de los datos\n",
        "# ==============================================================================\n",
        "y = df2.Attrition ##Variable Objetivo\n",
        "le = LabelEncoder()\n",
        "y = le.fit_transform(y)\n",
        "\n",
        "print(y[0:5])\n",
        "\n",
        "print(le.classes_)\n",
        "\n",
        "df2['Attrition'] = y\n"
      ],
      "metadata": {
        "colab": {
          "base_uri": "https://localhost:8080/"
        },
        "id": "kMmSORPG0H16",
        "outputId": "c7ba5d52-50d8-4cf3-cd2d-f9cfd6eac020"
      },
      "execution_count": 8,
      "outputs": [
        {
          "output_type": "stream",
          "name": "stdout",
          "text": [
            "[0 1 0 0 0]\n",
            "['No' 'Yes']\n"
          ]
        }
      ]
    },
    {
      "cell_type": "code",
      "source": [
        "df2.EnvironmentSatisfaction = df2.EnvironmentSatisfaction.astype(int)\n",
        "df2.JobSatisfaction  = df2.JobSatisfaction.astype(int)\n",
        "df2.WorkLifeBalance = df2.WorkLifeBalance.astype(int)\n",
        "df2.NumCompaniesWorked = df2.NumCompaniesWorked.astype(int)\n",
        "df2.TotalWorkingYears = df2.TotalWorkingYears.astype(int)\n",
        "\n",
        "#### Variables dummis\n",
        "# ==============================================================================\n",
        "df3=df2.copy()\n",
        "list_dummies=['BusinessTravel','Department','EducationField','Gender','JobRole','MaritalStatus']\n",
        "df_dummies=pd.get_dummies(df3,columns=list_dummies)\n",
        "\n",
        "y=df_dummies.Attrition\n",
        "X1= df_dummies.loc[:,~df_dummies.columns.isin(['Attrition','EmployeeID'])]\n",
        "scaler=StandardScaler()\n",
        "scaler.fit(X1)\n",
        "X2=scaler.transform(X1)\n",
        "X=pd.DataFrame(X2,columns=X1.columns)\n"
      ],
      "metadata": {
        "id": "tKoIoJ2B1LZ-"
      },
      "execution_count": 9,
      "outputs": []
    },
    {
      "cell_type": "code",
      "source": [
        "m_log = LogisticRegression(max_iter=1000,random_state=42, class_weight='balanced')\n",
        "m_rf= RandomForestClassifier(random_state=42, class_weight='balanced')\n",
        "m_tc = tree.DecisionTreeClassifier(random_state=42, class_weight='balanced')\n",
        "m_gbt=GradientBoostingClassifier(random_state=42)\n",
        "\n",
        "\n",
        "modelos=list([m_log, m_rf, m_tc, m_gbt])"
      ],
      "metadata": {
        "id": "Q1eSQvpY1SDV"
      },
      "execution_count": 10,
      "outputs": []
    },
    {
      "cell_type": "code",
      "source": [
        "### selección de variables\n",
        "# ==============================================================================\n",
        "var_names= funciones.sel_variables(modelos,X,y,threshold=\"2.35*mean\") #se decide usar el 2.35 mean para tener solo 10 variables en el modelo\n",
        "var_names.shape\n",
        "\n",
        "modelo=modelos[0]\n",
        "modelo.fit(X,y)\n",
        "\n",
        "X2=X[var_names] ### matriz con variables seleccionadas\n",
        "X2.info()\n",
        "\n",
        "acc_df = funciones.medir_modelos(modelos,\"f1\",X,y,2) ## base con todas las variables\n",
        "acc_varsel= funciones.medir_modelos(modelos,\"f1\",X2,y,2) ### base con variables seleccionadas\n",
        "\n",
        "acc=pd.concat([acc_df,acc_varsel],axis=1)\n",
        "acc.columns=['log', 'rf', 'tc','gbt',\n",
        "       'log_sel','rf_sel', 'tc_sel','gb_sel']"
      ],
      "metadata": {
        "id": "xYqfE0dL1hk-",
        "colab": {
          "base_uri": "https://localhost:8080/"
        },
        "outputId": "afbf5938-7508-4998-bf65-77124ee4137a"
      },
      "execution_count": 11,
      "outputs": [
        {
          "output_type": "stream",
          "name": "stdout",
          "text": [
            "<class 'pandas.core.frame.DataFrame'>\n",
            "RangeIndex: 4410 entries, 0 to 4409\n",
            "Data columns (total 12 columns):\n",
            " #   Column                   Non-Null Count  Dtype  \n",
            "---  ------                   --------------  -----  \n",
            " 0   Age                      4410 non-null   float64\n",
            " 1   DistanceFromHome         4410 non-null   float64\n",
            " 2   JobSatisfaction          4410 non-null   float64\n",
            " 3   MaritalStatus_Single     4410 non-null   float64\n",
            " 4   MonthlyIncome            4410 non-null   float64\n",
            " 5   NumCompaniesWorked       4410 non-null   float64\n",
            " 6   PercentSalaryHike        4410 non-null   float64\n",
            " 7   TotalWorkingYears        4410 non-null   float64\n",
            " 8   TrainingTimesLastYear    4410 non-null   float64\n",
            " 9   YearsAtCompany           4410 non-null   float64\n",
            " 10  YearsSinceLastPromotion  4410 non-null   float64\n",
            " 11  YearsWithCurrManager     4410 non-null   float64\n",
            "dtypes: float64(12)\n",
            "memory usage: 413.6 KB\n"
          ]
        }
      ]
    },
    {
      "cell_type": "code",
      "source": [
        "##### afinamiento de hiperparametros\n",
        "# ==============================================================================\n",
        "# Separación en conjuntos de entrenamiento y validación con 80% de muestras para entrenamiento\n",
        "X_train, X_test, y_train, y_test = train_test_split(X2, y, test_size=0.2, random_state=42)\n",
        "\n",
        "# Definición de cuadricula de hiperparametros\n",
        "parameters = {'n_estimators': [20,40,80,100,150],\n",
        "              'max_depth':[10,12,14,15,16],\n",
        "              'max_leaf_nodes': [50,70,100, 300]}\n"
      ],
      "metadata": {
        "id": "ixpPC2ow1jW2"
      },
      "execution_count": 12,
      "outputs": []
    },
    {
      "cell_type": "code",
      "source": [
        "#Definición del modelo\n",
        "# ==============================================================================\n",
        "rfc = RandomForestClassifier(random_state=42, class_weight='balanced')\n",
        "\n",
        "grid_search = GridSearchCV(rfc, parameters, cv=5, scoring='f1', n_jobs=-1)\n",
        "grid_result = grid_search.fit(X_train, y_train)\n",
        "\n",
        "print('Best Params: ', grid_result.best_params_)\n",
        "print('Best Score: ', grid_result.best_score_)\n",
        "\n",
        "bestModel_rfc=grid_result.best_estimator_\n",
        "print(\"F1:{:.2f}\".format(bestModel_rfc.score(X_test,y_test)))\n"
      ],
      "metadata": {
        "colab": {
          "base_uri": "https://localhost:8080/"
        },
        "id": "CF3z6Iqz1rKt",
        "outputId": "db4835f9-a4c7-4211-8aa2-0546bb22fb84"
      },
      "execution_count": 24,
      "outputs": [
        {
          "output_type": "stream",
          "name": "stdout",
          "text": [
            "Best Params:  {'max_depth': 14, 'max_leaf_nodes': 300, 'n_estimators': 150}\n",
            "Best Score:  0.929541966158656\n",
            "F1:0.99\n"
          ]
        }
      ]
    },
    {
      "cell_type": "code",
      "source": [
        "#bestModel_rfc=bestModel_rfc.fit(X_train, y_train)"
      ],
      "metadata": {
        "id": "vroY3fyqOK90"
      },
      "execution_count": 14,
      "outputs": []
    },
    {
      "cell_type": "code",
      "source": [
        "importancia = bestModel_rfc.feature_importances_\n",
        "importancia = pd.DataFrame(importancia, columns=['Importancia'])"
      ],
      "metadata": {
        "id": "1pDAXDgc7OUu"
      },
      "execution_count": 25,
      "outputs": []
    },
    {
      "cell_type": "code",
      "source": [
        "X3 = pd.DataFrame(X2.columns, columns=['Variables'])"
      ],
      "metadata": {
        "id": "e7c6LLYe47Pa"
      },
      "execution_count": 26,
      "outputs": []
    },
    {
      "cell_type": "code",
      "source": [
        "\n",
        "# Concatenar las Series al DataFrame X2\n",
        "X2_con_importancias = pd.concat([X3, importancia], axis=1)"
      ],
      "metadata": {
        "id": "D7rmh2b02zhS"
      },
      "execution_count": 27,
      "outputs": []
    },
    {
      "cell_type": "code",
      "source": [
        "X2_con_importancias.sort_values(by=['Importancia'], ascending=False)"
      ],
      "metadata": {
        "colab": {
          "base_uri": "https://localhost:8080/",
          "height": 426
        },
        "id": "rndzcaSK_2KD",
        "outputId": "b449e7f7-cd60-4a8a-f99c-e50a72f2f668"
      },
      "execution_count": 28,
      "outputs": [
        {
          "output_type": "execute_result",
          "data": {
            "text/plain": [
              "                  Variables  Importancia\n",
              "4             MonthlyIncome     0.131888\n",
              "0                       Age     0.125753\n",
              "7         TotalWorkingYears     0.107202\n",
              "1          DistanceFromHome     0.096340\n",
              "9            YearsAtCompany     0.090228\n",
              "6         PercentSalaryHike     0.081362\n",
              "11     YearsWithCurrManager     0.074915\n",
              "5        NumCompaniesWorked     0.066837\n",
              "8     TrainingTimesLastYear     0.062697\n",
              "2           JobSatisfaction     0.062092\n",
              "10  YearsSinceLastPromotion     0.057170\n",
              "3      MaritalStatus_Single     0.043515"
            ],
            "text/html": [
              "\n",
              "  <div id=\"df-f41cf5ba-cb9d-4cf2-9f47-9fe71809b1b4\" class=\"colab-df-container\">\n",
              "    <div>\n",
              "<style scoped>\n",
              "    .dataframe tbody tr th:only-of-type {\n",
              "        vertical-align: middle;\n",
              "    }\n",
              "\n",
              "    .dataframe tbody tr th {\n",
              "        vertical-align: top;\n",
              "    }\n",
              "\n",
              "    .dataframe thead th {\n",
              "        text-align: right;\n",
              "    }\n",
              "</style>\n",
              "<table border=\"1\" class=\"dataframe\">\n",
              "  <thead>\n",
              "    <tr style=\"text-align: right;\">\n",
              "      <th></th>\n",
              "      <th>Variables</th>\n",
              "      <th>Importancia</th>\n",
              "    </tr>\n",
              "  </thead>\n",
              "  <tbody>\n",
              "    <tr>\n",
              "      <th>4</th>\n",
              "      <td>MonthlyIncome</td>\n",
              "      <td>0.131888</td>\n",
              "    </tr>\n",
              "    <tr>\n",
              "      <th>0</th>\n",
              "      <td>Age</td>\n",
              "      <td>0.125753</td>\n",
              "    </tr>\n",
              "    <tr>\n",
              "      <th>7</th>\n",
              "      <td>TotalWorkingYears</td>\n",
              "      <td>0.107202</td>\n",
              "    </tr>\n",
              "    <tr>\n",
              "      <th>1</th>\n",
              "      <td>DistanceFromHome</td>\n",
              "      <td>0.096340</td>\n",
              "    </tr>\n",
              "    <tr>\n",
              "      <th>9</th>\n",
              "      <td>YearsAtCompany</td>\n",
              "      <td>0.090228</td>\n",
              "    </tr>\n",
              "    <tr>\n",
              "      <th>6</th>\n",
              "      <td>PercentSalaryHike</td>\n",
              "      <td>0.081362</td>\n",
              "    </tr>\n",
              "    <tr>\n",
              "      <th>11</th>\n",
              "      <td>YearsWithCurrManager</td>\n",
              "      <td>0.074915</td>\n",
              "    </tr>\n",
              "    <tr>\n",
              "      <th>5</th>\n",
              "      <td>NumCompaniesWorked</td>\n",
              "      <td>0.066837</td>\n",
              "    </tr>\n",
              "    <tr>\n",
              "      <th>8</th>\n",
              "      <td>TrainingTimesLastYear</td>\n",
              "      <td>0.062697</td>\n",
              "    </tr>\n",
              "    <tr>\n",
              "      <th>2</th>\n",
              "      <td>JobSatisfaction</td>\n",
              "      <td>0.062092</td>\n",
              "    </tr>\n",
              "    <tr>\n",
              "      <th>10</th>\n",
              "      <td>YearsSinceLastPromotion</td>\n",
              "      <td>0.057170</td>\n",
              "    </tr>\n",
              "    <tr>\n",
              "      <th>3</th>\n",
              "      <td>MaritalStatus_Single</td>\n",
              "      <td>0.043515</td>\n",
              "    </tr>\n",
              "  </tbody>\n",
              "</table>\n",
              "</div>\n",
              "    <div class=\"colab-df-buttons\">\n",
              "\n",
              "  <div class=\"colab-df-container\">\n",
              "    <button class=\"colab-df-convert\" onclick=\"convertToInteractive('df-f41cf5ba-cb9d-4cf2-9f47-9fe71809b1b4')\"\n",
              "            title=\"Convert this dataframe to an interactive table.\"\n",
              "            style=\"display:none;\">\n",
              "\n",
              "  <svg xmlns=\"http://www.w3.org/2000/svg\" height=\"24px\" viewBox=\"0 -960 960 960\">\n",
              "    <path d=\"M120-120v-720h720v720H120Zm60-500h600v-160H180v160Zm220 220h160v-160H400v160Zm0 220h160v-160H400v160ZM180-400h160v-160H180v160Zm440 0h160v-160H620v160ZM180-180h160v-160H180v160Zm440 0h160v-160H620v160Z\"/>\n",
              "  </svg>\n",
              "    </button>\n",
              "\n",
              "  <style>\n",
              "    .colab-df-container {\n",
              "      display:flex;\n",
              "      gap: 12px;\n",
              "    }\n",
              "\n",
              "    .colab-df-convert {\n",
              "      background-color: #E8F0FE;\n",
              "      border: none;\n",
              "      border-radius: 50%;\n",
              "      cursor: pointer;\n",
              "      display: none;\n",
              "      fill: #1967D2;\n",
              "      height: 32px;\n",
              "      padding: 0 0 0 0;\n",
              "      width: 32px;\n",
              "    }\n",
              "\n",
              "    .colab-df-convert:hover {\n",
              "      background-color: #E2EBFA;\n",
              "      box-shadow: 0px 1px 2px rgba(60, 64, 67, 0.3), 0px 1px 3px 1px rgba(60, 64, 67, 0.15);\n",
              "      fill: #174EA6;\n",
              "    }\n",
              "\n",
              "    .colab-df-buttons div {\n",
              "      margin-bottom: 4px;\n",
              "    }\n",
              "\n",
              "    [theme=dark] .colab-df-convert {\n",
              "      background-color: #3B4455;\n",
              "      fill: #D2E3FC;\n",
              "    }\n",
              "\n",
              "    [theme=dark] .colab-df-convert:hover {\n",
              "      background-color: #434B5C;\n",
              "      box-shadow: 0px 1px 3px 1px rgba(0, 0, 0, 0.15);\n",
              "      filter: drop-shadow(0px 1px 2px rgba(0, 0, 0, 0.3));\n",
              "      fill: #FFFFFF;\n",
              "    }\n",
              "  </style>\n",
              "\n",
              "    <script>\n",
              "      const buttonEl =\n",
              "        document.querySelector('#df-f41cf5ba-cb9d-4cf2-9f47-9fe71809b1b4 button.colab-df-convert');\n",
              "      buttonEl.style.display =\n",
              "        google.colab.kernel.accessAllowed ? 'block' : 'none';\n",
              "\n",
              "      async function convertToInteractive(key) {\n",
              "        const element = document.querySelector('#df-f41cf5ba-cb9d-4cf2-9f47-9fe71809b1b4');\n",
              "        const dataTable =\n",
              "          await google.colab.kernel.invokeFunction('convertToInteractive',\n",
              "                                                    [key], {});\n",
              "        if (!dataTable) return;\n",
              "\n",
              "        const docLinkHtml = 'Like what you see? Visit the ' +\n",
              "          '<a target=\"_blank\" href=https://colab.research.google.com/notebooks/data_table.ipynb>data table notebook</a>'\n",
              "          + ' to learn more about interactive tables.';\n",
              "        element.innerHTML = '';\n",
              "        dataTable['output_type'] = 'display_data';\n",
              "        await google.colab.output.renderOutput(dataTable, element);\n",
              "        const docLink = document.createElement('div');\n",
              "        docLink.innerHTML = docLinkHtml;\n",
              "        element.appendChild(docLink);\n",
              "      }\n",
              "    </script>\n",
              "  </div>\n",
              "\n",
              "\n",
              "<div id=\"df-0ce60b8d-fe4e-44aa-bd3e-5d202d86d51b\">\n",
              "  <button class=\"colab-df-quickchart\" onclick=\"quickchart('df-0ce60b8d-fe4e-44aa-bd3e-5d202d86d51b')\"\n",
              "            title=\"Suggest charts.\"\n",
              "            style=\"display:none;\">\n",
              "\n",
              "<svg xmlns=\"http://www.w3.org/2000/svg\" height=\"24px\"viewBox=\"0 0 24 24\"\n",
              "     width=\"24px\">\n",
              "    <g>\n",
              "        <path d=\"M19 3H5c-1.1 0-2 .9-2 2v14c0 1.1.9 2 2 2h14c1.1 0 2-.9 2-2V5c0-1.1-.9-2-2-2zM9 17H7v-7h2v7zm4 0h-2V7h2v10zm4 0h-2v-4h2v4z\"/>\n",
              "    </g>\n",
              "</svg>\n",
              "  </button>\n",
              "\n",
              "<style>\n",
              "  .colab-df-quickchart {\n",
              "      --bg-color: #E8F0FE;\n",
              "      --fill-color: #1967D2;\n",
              "      --hover-bg-color: #E2EBFA;\n",
              "      --hover-fill-color: #174EA6;\n",
              "      --disabled-fill-color: #AAA;\n",
              "      --disabled-bg-color: #DDD;\n",
              "  }\n",
              "\n",
              "  [theme=dark] .colab-df-quickchart {\n",
              "      --bg-color: #3B4455;\n",
              "      --fill-color: #D2E3FC;\n",
              "      --hover-bg-color: #434B5C;\n",
              "      --hover-fill-color: #FFFFFF;\n",
              "      --disabled-bg-color: #3B4455;\n",
              "      --disabled-fill-color: #666;\n",
              "  }\n",
              "\n",
              "  .colab-df-quickchart {\n",
              "    background-color: var(--bg-color);\n",
              "    border: none;\n",
              "    border-radius: 50%;\n",
              "    cursor: pointer;\n",
              "    display: none;\n",
              "    fill: var(--fill-color);\n",
              "    height: 32px;\n",
              "    padding: 0;\n",
              "    width: 32px;\n",
              "  }\n",
              "\n",
              "  .colab-df-quickchart:hover {\n",
              "    background-color: var(--hover-bg-color);\n",
              "    box-shadow: 0 1px 2px rgba(60, 64, 67, 0.3), 0 1px 3px 1px rgba(60, 64, 67, 0.15);\n",
              "    fill: var(--button-hover-fill-color);\n",
              "  }\n",
              "\n",
              "  .colab-df-quickchart-complete:disabled,\n",
              "  .colab-df-quickchart-complete:disabled:hover {\n",
              "    background-color: var(--disabled-bg-color);\n",
              "    fill: var(--disabled-fill-color);\n",
              "    box-shadow: none;\n",
              "  }\n",
              "\n",
              "  .colab-df-spinner {\n",
              "    border: 2px solid var(--fill-color);\n",
              "    border-color: transparent;\n",
              "    border-bottom-color: var(--fill-color);\n",
              "    animation:\n",
              "      spin 1s steps(1) infinite;\n",
              "  }\n",
              "\n",
              "  @keyframes spin {\n",
              "    0% {\n",
              "      border-color: transparent;\n",
              "      border-bottom-color: var(--fill-color);\n",
              "      border-left-color: var(--fill-color);\n",
              "    }\n",
              "    20% {\n",
              "      border-color: transparent;\n",
              "      border-left-color: var(--fill-color);\n",
              "      border-top-color: var(--fill-color);\n",
              "    }\n",
              "    30% {\n",
              "      border-color: transparent;\n",
              "      border-left-color: var(--fill-color);\n",
              "      border-top-color: var(--fill-color);\n",
              "      border-right-color: var(--fill-color);\n",
              "    }\n",
              "    40% {\n",
              "      border-color: transparent;\n",
              "      border-right-color: var(--fill-color);\n",
              "      border-top-color: var(--fill-color);\n",
              "    }\n",
              "    60% {\n",
              "      border-color: transparent;\n",
              "      border-right-color: var(--fill-color);\n",
              "    }\n",
              "    80% {\n",
              "      border-color: transparent;\n",
              "      border-right-color: var(--fill-color);\n",
              "      border-bottom-color: var(--fill-color);\n",
              "    }\n",
              "    90% {\n",
              "      border-color: transparent;\n",
              "      border-bottom-color: var(--fill-color);\n",
              "    }\n",
              "  }\n",
              "</style>\n",
              "\n",
              "  <script>\n",
              "    async function quickchart(key) {\n",
              "      const quickchartButtonEl =\n",
              "        document.querySelector('#' + key + ' button');\n",
              "      quickchartButtonEl.disabled = true;  // To prevent multiple clicks.\n",
              "      quickchartButtonEl.classList.add('colab-df-spinner');\n",
              "      try {\n",
              "        const charts = await google.colab.kernel.invokeFunction(\n",
              "            'suggestCharts', [key], {});\n",
              "      } catch (error) {\n",
              "        console.error('Error during call to suggestCharts:', error);\n",
              "      }\n",
              "      quickchartButtonEl.classList.remove('colab-df-spinner');\n",
              "      quickchartButtonEl.classList.add('colab-df-quickchart-complete');\n",
              "    }\n",
              "    (() => {\n",
              "      let quickchartButtonEl =\n",
              "        document.querySelector('#df-0ce60b8d-fe4e-44aa-bd3e-5d202d86d51b button');\n",
              "      quickchartButtonEl.style.display =\n",
              "        google.colab.kernel.accessAllowed ? 'block' : 'none';\n",
              "    })();\n",
              "  </script>\n",
              "</div>\n",
              "    </div>\n",
              "  </div>\n"
            ]
          },
          "metadata": {},
          "execution_count": 28
        }
      ]
    },
    {
      "cell_type": "code",
      "source": [
        "# Métricas de desempeño\n",
        "# ==============================================================================\n",
        "print (\"Train - Accuracy :\", metrics.accuracy_score(y_train, bestModel_rfc.predict(X_train)))\n",
        "print (\"Train - classification report:\\n\", metrics.classification_report(y_train, bestModel_rfc.predict(X_train)))\n",
        "print (\"Test - Accuracy :\", metrics.accuracy_score(y_test, bestModel_rfc.predict(X_test)))\n",
        "print (\"Test - classification report :\", metrics.classification_report(y_test, bestModel_rfc.predict(X_test)))\n",
        "\n",
        "\n",
        "# Matriz de confusión\n",
        "# ==============================================================================\n",
        "y_hat=bestModel_rfc.predict(X_test)\n",
        "fig = plt.figure(figsize=(11,11))\n",
        "cm = confusion_matrix(y_test,y_hat, labels=bestModel_rfc.classes_)\n",
        "disp = ConfusionMatrixDisplay(confusion_matrix = cm, display_labels=bestModel_rfc.classes_)\n",
        "disp.plot(cmap='gist_earth')\n",
        "plt.show()\n"
      ],
      "metadata": {
        "colab": {
          "base_uri": "https://localhost:8080/",
          "height": 831
        },
        "id": "Oh_lRiA71yJu",
        "outputId": "f5deaff3-9026-4aac-ffbf-234b7dd9afef"
      },
      "execution_count": 29,
      "outputs": [
        {
          "output_type": "stream",
          "name": "stdout",
          "text": [
            "Train - Accuracy : 1.0\n",
            "Train - classification report:\n",
            "               precision    recall  f1-score   support\n",
            "\n",
            "           0       1.00      1.00      1.00      2958\n",
            "           1       1.00      1.00      1.00       570\n",
            "\n",
            "    accuracy                           1.00      3528\n",
            "   macro avg       1.00      1.00      1.00      3528\n",
            "weighted avg       1.00      1.00      1.00      3528\n",
            "\n",
            "Test - Accuracy : 0.9920634920634921\n",
            "Test - classification report :               precision    recall  f1-score   support\n",
            "\n",
            "           0       0.99      1.00      1.00       741\n",
            "           1       1.00      0.95      0.97       141\n",
            "\n",
            "    accuracy                           0.99       882\n",
            "   macro avg       1.00      0.98      0.98       882\n",
            "weighted avg       0.99      0.99      0.99       882\n",
            "\n"
          ]
        },
        {
          "output_type": "display_data",
          "data": {
            "text/plain": [
              "<Figure size 1100x1100 with 0 Axes>"
            ]
          },
          "metadata": {}
        },
        {
          "output_type": "display_data",
          "data": {
            "text/plain": [
              "<Figure size 640x480 with 2 Axes>"
            ],
            "image/png": "[encoded data removed]"
          },
          "metadata": {}
        }
      ]
    },
    {
      "cell_type": "code",
      "source": [
        "importancia.to_excel(\"feature_importances.xlsx\")"
      ],
      "metadata": {
        "id": "9wD-5pqP_F0g"
      },
      "execution_count": 20,
      "outputs": []
    },
    {
      "cell_type": "code",
      "source": [
        "joblib.dump(bestModel_rfc, \"bestModel_rfc.pkl\") ##  Modelo final con variables seleccionadas\n",
        "joblib.dump(m_rf, \"m_rf.pkl\") ## Modelo con todas las variables\n",
        "joblib.dump(list_cat, \"list_cat.pkl\") ### para realizar imputacion variables categóricas\n",
        "joblib.dump(list_num, \"list_num.pkl\") ### para realizar imputacion variables numéricas\n",
        "joblib.dump(list_dummies, \"list_dummies.pkl\")  ### para convertir a dummies\n",
        "joblib.dump(var_names, \"var_names.pkl\")  ### para variables con que se entrena modelo\n",
        "joblib.dump(scaler, \"scaler.pkl\") ##\n",
        "\n",
        "\n",
        "bestModel_rfc = joblib.load(\"bestModel_rfc.pkl\")\n",
        "m_rf = joblib.load(\"m_rf.pkl\")\n",
        "list_cat=joblib.load(\"list_cat.pkl\")\n",
        "list_num=joblib.load(\"list_num.pkl\")\n",
        "list_dummies=joblib.load(\"list_dummies.pkl\")\n",
        "var_names=joblib.load(\"var_names.pkl\")\n",
        "scaler=joblib.load(\"scaler.pkl\")\n"
      ],
      "metadata": {
        "id": "xpuih2AtCTcm"
      },
      "execution_count": 30,
      "outputs": []
    },
    {
      "cell_type": "code",
      "source": [
        "def preparar_datos (df):\n",
        "\n",
        "\n",
        "\n",
        "  #######Cargar y procesar nuevos datos ######\n",
        "\n",
        "\n",
        "  #### Cargar modelo y listas\n",
        "\n",
        "\n",
        "  list_cat=joblib.load(\"list_cat.pkl\")\n",
        "  list_num=joblib.load(\"list_num.pkl\")\n",
        "  list_dummies=joblib.load(\"list_dummies.pkl\")\n",
        "  var_names=joblib.load(\"var_names.pkl\")\n",
        "  scaler=joblib.load( \"scaler.pkl\")\n",
        "\n",
        "  ####Ejecutar funciones de transformaciones\n",
        "\n",
        "  df=funciones.imputar_fc(df,list_cat)\n",
        "  df=funciones.imputar_fn(df,list_num)\n",
        "  df_dummies=pd.get_dummies(df,columns=list_dummies)\n",
        "  df_dummies= df_dummies.loc[:,~df_dummies.columns.isin(['Attrition','EmployeeID'])]\n",
        "  X2=scaler.transform(df_dummies)\n",
        "  X=pd.DataFrame(X2,columns=df_dummies.columns)\n",
        "  X=X[var_names]\n",
        "\n",
        "\n",
        "\n",
        "\n",
        "  return X"
      ],
      "metadata": {
        "id": "cpcZqivrGzjN"
      },
      "execution_count": 33,
      "outputs": []
    },
    {
      "cell_type": "code",
      "source": [
        "\n",
        "import pandas as pd ### para manejo de datos\n",
        "import sqlite3 as sql\n",
        "import joblib\n",
        "import openpyxl ## para exportar a excel\n",
        "import numpy as np\n",
        "\n",
        "\n",
        "###### el despliegue consiste en dejar todo el código listo para una ejecucion automática en el periodo definido:\n",
        "###### en este caso se ejecutara el proceso de entrenamiento y prediccion anualmente.\n",
        "if __name__==\"__main__\":\n",
        "\n",
        "\n",
        "  ### conectarse a la base de datos ###\n",
        "  conn=sql.connect(\"db_empleados\")\n",
        "  cur=conn.cursor()\n",
        "\n",
        "  ### Ejecutar sql de preprocesamiento inicial y juntarlo\n",
        "  #### con base de preprocesamiento con la que se entrenó para evitar perdida de variables por conversión a dummies\n",
        "\n",
        "  funciones.ejecutar_sql('preprocesamiento.sql',cur) ### con las fechas actualizadas explicativas 2023- predecir 2024\n",
        "  df=pd.read_sql('''select  * from base_nueva''',conn)\n",
        "  df = df.drop(['Over18','EmployeeCount','index'], axis = 1) #eliminación de variables de una sola categoria\n",
        "\n",
        "  ####Otras transformaciones en python (imputación, dummies y seleccion de variables)\n",
        "  df_t= preparar_datos(df)\n",
        "\n",
        "\n",
        "  ##Cargar modelo y predecir\n",
        "  bestModel_rfc = joblib.load(\"bestModel_rfc.pkl\")\n",
        "  predicciones=bestModel_rfc.predict(df_t)\n",
        "  pd_pred=pd.DataFrame(predicciones, columns=['pred_2017'])\n",
        "\n",
        "\n",
        "  ###Crear base con predicciones ####\n",
        "\n",
        "  perf_pred=pd.concat([df['EmployeeID'],df_t,pd_pred],axis=1)\n",
        "\n",
        "  ####LLevar a BD para despliegue\n",
        "  perf_pred.loc[:,['EmployeeID', 'pred_2017']].to_sql(\"perf_pred\",conn,if_exists=\"replace\") ## llevar predicciones a BD con ID Empleados\n",
        "\n",
        "\n",
        "  ####ver_predicciones_bajas ###\n",
        "  emp_pred_bajo=perf_pred.sort_values(by=[\"pred_2017\"],ascending=True).head(10)\n",
        "\n",
        "  emp_pred_bajo.set_index('EmployeeID', inplace=True)\n",
        "  pred=emp_pred_bajo.T\n",
        "\n",
        "  importancia1 = bestModel_rfc.feature_importances_   #importancia de las variables seleccionadas\n",
        "  importancia1 = pd.DataFrame(importancia1, columns=['Importancia'])\n",
        "  X3 = pd.DataFrame(X2.columns, columns=['Variables'])\n",
        "  # Concatenar las Series al DataFrame X2\n",
        "  variables_con_importancias = pd.concat([X3, importancia1], axis=1)\n",
        "  variables_con_importancias.to_excel(\"variables_con_importancias.xlsx\") ### exportar importancia de variables para análisis personalizado\n",
        "\n"
      ],
      "metadata": {
        "id": "j85WIPWUC5f-"
      },
      "execution_count": 46,
      "outputs": []
    }
  ]
}
