{
  "cells": [
    {
      "cell_type": "markdown",
      "metadata": {
        "id": "view-in-github",
        "colab_type": "text"
      },
      "source": [
        "<a href=\"https://colab.research.google.com/github/GabrielaCuervoR/Analitica3/blob/main/e_despliegue.ipynb\" target=\"_parent\"><img src=\"https://colab.research.google.com/assets/colab-badge.svg\" alt=\"Open In Colab\"/></a>"
      ]
    },
    {
      "cell_type": "code",
      "execution_count": null,
      "metadata": {
        "id": "xy2BVuFbUGVa"
      },
      "outputs": [],
      "source": [
        "import pandas as pd ### para manejo de datos\n",
        "import sqlite3 as sql\n",
        "import joblib\n",
        "import openpyxl ## para exportar a excel\n",
        "import numpy as np"
      ]
    },
    {
      "cell_type": "code",
      "execution_count": null,
      "metadata": {
        "id": "cu48fotyUGVc",
        "outputId": "1250aab2-d4ed-4fc8-fcd7-967802a2700c"
      },
      "outputs": [
        {
          "name": "stdout",
          "output_type": "stream",
          "text": [
            "[0 1 0 0 0]\n",
            "['No' 'Yes']\n",
            "<class 'pandas.core.frame.DataFrame'>\n",
            "RangeIndex: 4410 entries, 0 to 4409\n",
            "Data columns (total 12 columns):\n",
            " #   Column                   Non-Null Count  Dtype  \n",
            "---  ------                   --------------  -----  \n",
            " 0   Age                      4410 non-null   float64\n",
            " 1   DistanceFromHome         4410 non-null   float64\n",
            " 2   JobSatisfaction          4410 non-null   float64\n",
            " 3   MaritalStatus_Single     4410 non-null   float64\n",
            " 4   MonthlyIncome            4410 non-null   float64\n",
            " 5   NumCompaniesWorked       4410 non-null   float64\n",
            " 6   PercentSalaryHike        4410 non-null   float64\n",
            " 7   TotalWorkingYears        4410 non-null   float64\n",
            " 8   TrainingTimesLastYear    4410 non-null   float64\n",
            " 9   YearsAtCompany           4410 non-null   float64\n",
            " 10  YearsSinceLastPromotion  4410 non-null   float64\n",
            " 11  YearsWithCurrManager     4410 non-null   float64\n",
            "dtypes: float64(12)\n",
            "memory usage: 413.6 KB\n",
            "Best Params:  {'max_depth': 14, 'max_leaf_nodes': 300, 'n_estimators': 100}\n",
            "Best Score:  0.9295779212079612\n",
            "F1:0.99\n",
            "Train - Accuracy : 1.0\n",
            "Train - classification report:\n",
            "               precision    recall  f1-score   support\n",
            "\n",
            "           0       1.00      1.00      1.00      2958\n",
            "           1       1.00      1.00      1.00       570\n",
            "\n",
            "    accuracy                           1.00      3528\n",
            "   macro avg       1.00      1.00      1.00      3528\n",
            "weighted avg       1.00      1.00      1.00      3528\n",
            "\n",
            "Test - Accuracy : 0.9920634920634921\n",
            "Test - classification report :               precision    recall  f1-score   support\n",
            "\n",
            "           0       0.99      1.00      1.00       741\n",
            "           1       1.00      0.95      0.97       141\n",
            "\n",
            "    accuracy                           0.99       882\n",
            "   macro avg       1.00      0.98      0.98       882\n",
            "weighted avg       0.99      0.99      0.99       882\n",
            "\n"
          ]
        },
        {
          "data": {
            "text/plain": [
              "<Figure size 792x792 with 0 Axes>"
            ]
          },
          "metadata": {},
          "output_type": "display_data"
        },
        {
          "data": {
            "image/png": "[encoded data removed]",
            "text/plain": [
              "<Figure size 432x288 with 2 Axes>"
            ]
          },
          "metadata": {
            "needs_background": "light"
          },
          "output_type": "display_data"
        }
      ],
      "source": [
        "%run c_modelos.ipynb"
      ]
    },
    {
      "cell_type": "code",
      "execution_count": null,
      "metadata": {
        "id": "NeCWsKjCUGVe"
      },
      "outputs": [],
      "source": [
        "import a_funciones as funciones"
      ]
    },
    {
      "cell_type": "code",
      "execution_count": null,
      "metadata": {
        "id": "ghPb1e21UGVe"
      },
      "outputs": [],
      "source": [
        "def preparar_datos (df):\n",
        "\n",
        "  #### Cargar modelo y listas\n",
        "\n",
        "\n",
        "  list_cat=joblib.load(\"list_cat.pkl\")\n",
        "  list_num=joblib.load(\"list_num.pkl\")\n",
        "  list_dummies=joblib.load(\"list_dummies.pkl\")\n",
        "  var_names=joblib.load(\"var_names.pkl\")\n",
        "  scaler=joblib.load( \"scaler.pkl\")\n",
        "\n",
        "  ####Ejecutar funciones de transformaciones\n",
        "\n",
        "  df=funciones.imputar_fc(df,list_cat)\n",
        "  df=funciones.imputar_fn(df,list_num)\n",
        "  df_dummies=pd.get_dummies(df,columns=list_dummies)\n",
        "  df_dummies= df_dummies.loc[:,~df_dummies.columns.isin(['Attrition','EmployeeID'])]\n",
        "  X2=scaler.transform(df_dummies)\n",
        "  X=pd.DataFrame(X2,columns=df_dummies.columns)\n",
        "  X=X[var_names]\n",
        "\n",
        "\n",
        "  return X"
      ]
    },
    {
      "cell_type": "code",
      "execution_count": null,
      "metadata": {
        "id": "EIiNUEc0UGVf"
      },
      "outputs": [],
      "source": [
        "###### el despliegue consiste en dejar todo el código listo para una ejecucion automática en el periodo definido:\n",
        "###### en este caso se ejecutara el proceso de entrenamiento y prediccion anualmente.\n",
        "if __name__==\"__main__\":\n",
        "\n",
        "\n",
        "  ### conectarse a la base de datos ###\n",
        "  conn=sql.connect(\"db_empleados\")\n",
        "  cur=conn.cursor()\n",
        "\n",
        "  ### Ejecutar sql de preprocesamiento inicial y juntarlo\n",
        "  #### con base de preprocesamiento con la que se entrenó para evitar perdida de variables por conversión a dummies\n",
        "\n",
        "  funciones.ejecutar_sql('preprocesamiento.sql',cur) ### con las fechas actualizadas explicativas 2023- predecir 2024\n",
        "  df=pd.read_sql('''select  * from base_nueva''',conn)\n",
        "  df = df.drop(['Over18','EmployeeCount','index'], axis = 1) #eliminación de variables de una sola categoria\n",
        "\n",
        "  ####Otras transformaciones en python (imputación, dummies y seleccion de variables)\n",
        "  df_t= preparar_datos(df)\n",
        "\n",
        "\n",
        "  ##Cargar modelo y predecir\n",
        "  bestModel_rfc = joblib.load(\"bestModel_rfc.pkl\")\n",
        "  predicciones=bestModel_rfc.predict(df_t)\n",
        "  pd_pred=pd.DataFrame(predicciones, columns=['pred_2017'])\n",
        "\n",
        "\n",
        "  ###Crear base con predicciones ####\n",
        "\n",
        "  perf_pred=pd.concat([df['EmployeeID'],df_t,pd_pred],axis=1)\n",
        "\n",
        "  ####LLevar a BD para despliegue\n",
        "  perf_pred.loc[:,['EmployeeID', 'pred_2017']].to_sql(\"perf_pred\",conn,if_exists=\"replace\") ## llevar predicciones a BD con ID Empleados\n",
        "\n",
        "\n",
        "  ####ver_predicciones_bajas ###\n",
        "  emp_pred_bajo=perf_pred.sort_values(by=[\"pred_2017\"],ascending=True).head(10)\n",
        "\n",
        "  emp_pred_bajo.set_index('EmployeeID', inplace=True)\n",
        "  pred=emp_pred_bajo.T\n",
        "\n",
        "  importancia1 = bestModel_rfc.feature_importances_   #importancia de las variables seleccionadas\n",
        "  importancia1 = pd.DataFrame(importancia1, columns=['Importancia'])\n",
        "  X3 = pd.DataFrame(X2.columns, columns=['Variables'])\n",
        "  # Concatenar las Series al DataFrame X2\n",
        "  variables_con_importancias = pd.concat([X3, importancia1], axis=1)\n",
        "  variables_con_importancias.to_excel(\"variables_con_importancias.xlsx\") ### exportar importancia de variables para análisis personalizado"
      ]
    }
  ],
  "metadata": {
    "kernelspec": {
      "display_name": "base",
      "language": "python",
      "name": "python3"
    },
    "language_info": {
      "codemirror_mode": {
        "name": "ipython",
        "version": 3
      },
      "file_extension": ".py",
      "mimetype": "text/x-python",
      "name": "python",
      "nbconvert_exporter": "python",
      "pygments_lexer": "ipython3",
      "version": "3.9.12"
    },
    "orig_nbformat": 4,
    "colab": {
      "provenance": [],
      "include_colab_link": true
    }
  },
  "nbformat": 4,
  "nbformat_minor": 0
}