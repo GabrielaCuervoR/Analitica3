{
  "cells": [
    {
      "cell_type": "markdown",
      "metadata": {
        "colab_type": "text",
        "id": "view-in-github"
      },
      "source": [
        "<a href=\"https://colab.research.google.com/github/GabrielaCuervoR/Analitica3/blob/main/b_preprocesamiento.ipynb\" target=\"_parent\"><img src=\"https://colab.research.google.com/assets/colab-badge.svg\" alt=\"Open In Colab\"/></a>"
      ]
    },
    {
      "cell_type": "code",
      "execution_count": 36,
      "metadata": {
        "id": "GCkzgLD5v_hv"
      },
      "outputs": [],
      "source": [
        "from platform import python_version ## versión de python\n",
        "import pandas as pd ### para manejo de datos\n",
        "import sqlite3 as sql #### para bases de datos sql\n",
        "import sys ## saber ruta de la que carga paquetes\n",
        "from sklearn.preprocessing import LabelEncoder ### Transformar la variable objetivo en numérica."
      ]
    },
    {
      "cell_type": "code",
      "execution_count": 1,
      "metadata": {},
      "outputs": [],
      "source": [
        "%run a_funciones.ipynb"
      ]
    },
    {
      "cell_type": "code",
      "execution_count": 37,
      "metadata": {
        "id": "NRrBVa4DwhOW"
      },
      "outputs": [],
      "source": [
        "##Se cargan las bases de datos almacenadas en el github\n",
        "df_data= 'https://raw.githubusercontent.com/GabrielaCuervoR/Analitica3/main/Data/general_data.csv'\n",
        "df_retiros= 'https://raw.githubusercontent.com/GabrielaCuervoR/Analitica3/main/Data/retirement_info.csv'\n",
        "df_employee= 'https://raw.githubusercontent.com/GabrielaCuervoR/Analitica3/main/Data/employee_survey_data.csv'\n",
        "df_manager= 'https://raw.githubusercontent.com/GabrielaCuervoR/Analitica3/main/Data/manager_survey_data.csv'"
      ]
    },
    {
      "cell_type": "code",
      "execution_count": 38,
      "metadata": {
        "id": "mrjf-7mDrKDr"
      },
      "outputs": [],
      "source": [
        "##Se leen la base de datos con la información arreglada\n",
        "df_data=pd.read_csv(df_data, sep= ';' )\n",
        "df_retiros=pd.read_csv(df_retiros, sep=';')\n",
        "df_employee=pd.read_csv(df_employee)\n",
        "df_manager=pd.read_csv(df_manager)"
      ]
    },
    {
      "cell_type": "code",
      "execution_count": 39,
      "metadata": {
        "colab": {
          "base_uri": "https://localhost:8080/"
        },
        "id": "8HXu679E1EPW",
        "outputId": "472ce61c-0b29-4110-d037-7044eedfc5cd"
      },
      "outputs": [
        {
          "data": {
            "text/plain": [
              "711"
            ]
          },
          "execution_count": 39,
          "metadata": {},
          "output_type": "execute_result"
        }
      ],
      "source": [
        "conn= sql.connect(\"db_empleados\") ## Con este comando se crea la base de datos o si ya existe se conecta\n",
        "\n",
        "df_employee.to_sql(\"employee_survey_data\",conn,if_exists=\"replace\")\n",
        "df_data.to_sql(\"general_data\",conn,if_exists=\"replace\")\n",
        "df_manager.to_sql(\"manager_survey_data\",conn,if_exists=\"replace\")\n",
        "df_retiros.to_sql(\"retirement_info\",conn,if_exists=\"replace\")"
      ]
    },
    {
      "cell_type": "code",
      "execution_count": 56,
      "metadata": {
        "id": "z7AoflXjIanW"
      },
      "outputs": [],
      "source": [
        "cur= conn.cursor()\n",
        "ejecutar_sql('preprocesamiento.sql', cur)"
      ]
    },
    {
      "cell_type": "code",
      "execution_count": 57,
      "metadata": {
        "id": "zYBdT-L1zVi6"
      },
      "outputs": [],
      "source": [
        "df2=pd.read_sql(\"select * from base_nueva\", conn)"
      ]
    },
    {
      "cell_type": "code",
      "execution_count": 58,
      "metadata": {
        "id": "iqVLF3K2L6wv"
      },
      "outputs": [],
      "source": [
        "df2 = df2.drop(columns=['index'], axis=1)##Se elimina la columna index que por defecto la sube sql"
      ]
    },
    {
      "cell_type": "code",
      "execution_count": 59,
      "metadata": {
        "colab": {
          "base_uri": "https://localhost:8080/"
        },
        "id": "tGZvcCZHlbS4",
        "outputId": "93944ca9-f16d-4314-b2ed-209e9517b242"
      },
      "outputs": [
        {
          "name": "stdout",
          "output_type": "stream",
          "text": [
            "<class 'pandas.core.frame.DataFrame'>\n",
            "RangeIndex: 4410 entries, 0 to 4409\n",
            "Data columns (total 29 columns):\n",
            " #   Column                   Non-Null Count  Dtype  \n",
            "---  ------                   --------------  -----  \n",
            " 0   Age                      4410 non-null   int64  \n",
            " 1   BusinessTravel           4410 non-null   object \n",
            " 2   Department               4410 non-null   object \n",
            " 3   DistanceFromHome         4410 non-null   int64  \n",
            " 4   Education                4410 non-null   int64  \n",
            " 5   EducationField           4410 non-null   object \n",
            " 6   EmployeeCount            4410 non-null   int64  \n",
            " 7   EmployeeID               4410 non-null   int64  \n",
            " 8   Gender                   4410 non-null   object \n",
            " 9   JobLevel                 4410 non-null   int64  \n",
            " 10  JobRole                  4410 non-null   object \n",
            " 11  MaritalStatus            4410 non-null   object \n",
            " 12  MonthlyIncome            4410 non-null   int64  \n",
            " 13  NumCompaniesWorked       4391 non-null   float64\n",
            " 14  Over18                   4410 non-null   object \n",
            " 15  PercentSalaryHike        4410 non-null   int64  \n",
            " 16  StandardHours            4410 non-null   int64  \n",
            " 17  StockOptionLevel         4410 non-null   int64  \n",
            " 18  TotalWorkingYears        4401 non-null   float64\n",
            " 19  TrainingTimesLastYear    4410 non-null   int64  \n",
            " 20  YearsAtCompany           4410 non-null   int64  \n",
            " 21  YearsSinceLastPromotion  4410 non-null   int64  \n",
            " 22  YearsWithCurrManager     4410 non-null   int64  \n",
            " 23  Attrition                711 non-null    object \n",
            " 24  JobInvolvement           4410 non-null   int64  \n",
            " 25  PerformanceRating        4410 non-null   int64  \n",
            " 26  EnvironmentSatisfaction  4385 non-null   float64\n",
            " 27  WorkLifeBalance          4372 non-null   float64\n",
            " 28  JobSatisfaction          4390 non-null   float64\n",
            "dtypes: float64(5), int64(16), object(8)\n",
            "memory usage: 999.3+ KB\n"
          ]
        }
      ],
      "source": [
        "df2.info()##Se analiza la información de la base de datos"
      ]
    },
    {
      "cell_type": "code",
      "execution_count": 60,
      "metadata": {
        "colab": {
          "base_uri": "https://localhost:8080/",
          "height": 143
        },
        "id": "qAws1ZnUkwwX",
        "outputId": "26dc1652-b15d-4475-8278-16555d8faf77"
      },
      "outputs": [
        {
          "data": {
            "text/html": [
              "<div>\n",
              "<style scoped>\n",
              "    .dataframe tbody tr th:only-of-type {\n",
              "        vertical-align: middle;\n",
              "    }\n",
              "\n",
              "    .dataframe tbody tr th {\n",
              "        vertical-align: top;\n",
              "    }\n",
              "\n",
              "    .dataframe thead th {\n",
              "        text-align: right;\n",
              "    }\n",
              "</style>\n",
              "<table border=\"1\" class=\"dataframe\">\n",
              "  <thead>\n",
              "    <tr style=\"text-align: right;\">\n",
              "      <th></th>\n",
              "      <th>BusinessTravel</th>\n",
              "      <th>count(*)</th>\n",
              "    </tr>\n",
              "  </thead>\n",
              "  <tbody>\n",
              "    <tr>\n",
              "      <th>0</th>\n",
              "      <td>Non-Travel</td>\n",
              "      <td>450</td>\n",
              "    </tr>\n",
              "    <tr>\n",
              "      <th>1</th>\n",
              "      <td>Travel_Frequently</td>\n",
              "      <td>831</td>\n",
              "    </tr>\n",
              "    <tr>\n",
              "      <th>2</th>\n",
              "      <td>Travel_Rarely</td>\n",
              "      <td>3129</td>\n",
              "    </tr>\n",
              "  </tbody>\n",
              "</table>\n",
              "</div>"
            ],
            "text/plain": [
              "      BusinessTravel  count(*)\n",
              "0         Non-Travel       450\n",
              "1  Travel_Frequently       831\n",
              "2      Travel_Rarely      3129"
            ]
          },
          "execution_count": 60,
          "metadata": {},
          "output_type": "execute_result"
        }
      ],
      "source": [
        "### Se verifican las categorias y obsevaciones de cada variable categorica, para ver si se deben agrupar por si tiene muchas categorias.\n",
        "pd.read_sql(\"\"\"select BusinessTravel,count(*)\n",
        "                            from base_nueva\n",
        "                            group by BusinessTravel\"\"\", conn)"
      ]
    },
    {
      "cell_type": "code",
      "execution_count": 61,
      "metadata": {
        "colab": {
          "base_uri": "https://localhost:8080/",
          "height": 143
        },
        "id": "zNT6sD4olPlH",
        "outputId": "6fa63fea-70ca-4e39-cc7e-4d4ac7e4260c"
      },
      "outputs": [
        {
          "data": {
            "text/html": [
              "<div>\n",
              "<style scoped>\n",
              "    .dataframe tbody tr th:only-of-type {\n",
              "        vertical-align: middle;\n",
              "    }\n",
              "\n",
              "    .dataframe tbody tr th {\n",
              "        vertical-align: top;\n",
              "    }\n",
              "\n",
              "    .dataframe thead th {\n",
              "        text-align: right;\n",
              "    }\n",
              "</style>\n",
              "<table border=\"1\" class=\"dataframe\">\n",
              "  <thead>\n",
              "    <tr style=\"text-align: right;\">\n",
              "      <th></th>\n",
              "      <th>Department</th>\n",
              "      <th>count(*)</th>\n",
              "    </tr>\n",
              "  </thead>\n",
              "  <tbody>\n",
              "    <tr>\n",
              "      <th>0</th>\n",
              "      <td>Human Resources</td>\n",
              "      <td>189</td>\n",
              "    </tr>\n",
              "    <tr>\n",
              "      <th>1</th>\n",
              "      <td>Research &amp; Development</td>\n",
              "      <td>2883</td>\n",
              "    </tr>\n",
              "    <tr>\n",
              "      <th>2</th>\n",
              "      <td>Sales</td>\n",
              "      <td>1338</td>\n",
              "    </tr>\n",
              "  </tbody>\n",
              "</table>\n",
              "</div>"
            ],
            "text/plain": [
              "               Department  count(*)\n",
              "0         Human Resources       189\n",
              "1  Research & Development      2883\n",
              "2                   Sales      1338"
            ]
          },
          "execution_count": 61,
          "metadata": {},
          "output_type": "execute_result"
        }
      ],
      "source": [
        "pd.read_sql(\"\"\"select Department,count(*)\n",
        "                            from base_nueva\n",
        "                            group by Department\"\"\", conn)"
      ]
    },
    {
      "cell_type": "code",
      "execution_count": 62,
      "metadata": {
        "colab": {
          "base_uri": "https://localhost:8080/",
          "height": 237
        },
        "id": "Y8tkmClpmDEK",
        "outputId": "6cf49027-6173-4530-f863-0d0535d6920f"
      },
      "outputs": [
        {
          "data": {
            "text/html": [
              "<div>\n",
              "<style scoped>\n",
              "    .dataframe tbody tr th:only-of-type {\n",
              "        vertical-align: middle;\n",
              "    }\n",
              "\n",
              "    .dataframe tbody tr th {\n",
              "        vertical-align: top;\n",
              "    }\n",
              "\n",
              "    .dataframe thead th {\n",
              "        text-align: right;\n",
              "    }\n",
              "</style>\n",
              "<table border=\"1\" class=\"dataframe\">\n",
              "  <thead>\n",
              "    <tr style=\"text-align: right;\">\n",
              "      <th></th>\n",
              "      <th>EducationField</th>\n",
              "      <th>count(*)</th>\n",
              "    </tr>\n",
              "  </thead>\n",
              "  <tbody>\n",
              "    <tr>\n",
              "      <th>0</th>\n",
              "      <td>Human Resources</td>\n",
              "      <td>81</td>\n",
              "    </tr>\n",
              "    <tr>\n",
              "      <th>1</th>\n",
              "      <td>Life Sciences</td>\n",
              "      <td>1818</td>\n",
              "    </tr>\n",
              "    <tr>\n",
              "      <th>2</th>\n",
              "      <td>Marketing</td>\n",
              "      <td>477</td>\n",
              "    </tr>\n",
              "    <tr>\n",
              "      <th>3</th>\n",
              "      <td>Medical</td>\n",
              "      <td>1392</td>\n",
              "    </tr>\n",
              "    <tr>\n",
              "      <th>4</th>\n",
              "      <td>Other</td>\n",
              "      <td>246</td>\n",
              "    </tr>\n",
              "    <tr>\n",
              "      <th>5</th>\n",
              "      <td>Technical Degree</td>\n",
              "      <td>396</td>\n",
              "    </tr>\n",
              "  </tbody>\n",
              "</table>\n",
              "</div>"
            ],
            "text/plain": [
              "     EducationField  count(*)\n",
              "0   Human Resources        81\n",
              "1     Life Sciences      1818\n",
              "2         Marketing       477\n",
              "3           Medical      1392\n",
              "4             Other       246\n",
              "5  Technical Degree       396"
            ]
          },
          "execution_count": 62,
          "metadata": {},
          "output_type": "execute_result"
        }
      ],
      "source": [
        "pd.read_sql(\"\"\"select EducationField ,count(*)\n",
        "                            from base_nueva\n",
        "                            group by EducationField \"\"\", conn)"
      ]
    },
    {
      "cell_type": "code",
      "execution_count": 63,
      "metadata": {
        "colab": {
          "base_uri": "https://localhost:8080/",
          "height": 112
        },
        "id": "9hjRXUw3m4Ga",
        "outputId": "d36f6f7e-7020-4a68-b9eb-a0eca6d5d2b0"
      },
      "outputs": [
        {
          "data": {
            "text/html": [
              "<div>\n",
              "<style scoped>\n",
              "    .dataframe tbody tr th:only-of-type {\n",
              "        vertical-align: middle;\n",
              "    }\n",
              "\n",
              "    .dataframe tbody tr th {\n",
              "        vertical-align: top;\n",
              "    }\n",
              "\n",
              "    .dataframe thead th {\n",
              "        text-align: right;\n",
              "    }\n",
              "</style>\n",
              "<table border=\"1\" class=\"dataframe\">\n",
              "  <thead>\n",
              "    <tr style=\"text-align: right;\">\n",
              "      <th></th>\n",
              "      <th>Gender</th>\n",
              "      <th>count(*)</th>\n",
              "    </tr>\n",
              "  </thead>\n",
              "  <tbody>\n",
              "    <tr>\n",
              "      <th>0</th>\n",
              "      <td>Female</td>\n",
              "      <td>1764</td>\n",
              "    </tr>\n",
              "    <tr>\n",
              "      <th>1</th>\n",
              "      <td>Male</td>\n",
              "      <td>2646</td>\n",
              "    </tr>\n",
              "  </tbody>\n",
              "</table>\n",
              "</div>"
            ],
            "text/plain": [
              "   Gender  count(*)\n",
              "0  Female      1764\n",
              "1    Male      2646"
            ]
          },
          "execution_count": 63,
          "metadata": {},
          "output_type": "execute_result"
        }
      ],
      "source": [
        "pd.read_sql(\"\"\"select Gender ,count(*)\n",
        "                            from base_nueva\n",
        "                            group by Gender\"\"\", conn)"
      ]
    },
    {
      "cell_type": "code",
      "execution_count": 64,
      "metadata": {
        "colab": {
          "base_uri": "https://localhost:8080/",
          "height": 331
        },
        "id": "6OlbISURnEAR",
        "outputId": "933ee203-4bba-4b6a-ca12-f04780cfb4de"
      },
      "outputs": [
        {
          "data": {
            "text/html": [
              "<div>\n",
              "<style scoped>\n",
              "    .dataframe tbody tr th:only-of-type {\n",
              "        vertical-align: middle;\n",
              "    }\n",
              "\n",
              "    .dataframe tbody tr th {\n",
              "        vertical-align: top;\n",
              "    }\n",
              "\n",
              "    .dataframe thead th {\n",
              "        text-align: right;\n",
              "    }\n",
              "</style>\n",
              "<table border=\"1\" class=\"dataframe\">\n",
              "  <thead>\n",
              "    <tr style=\"text-align: right;\">\n",
              "      <th></th>\n",
              "      <th>JobRole</th>\n",
              "      <th>count(*)</th>\n",
              "    </tr>\n",
              "  </thead>\n",
              "  <tbody>\n",
              "    <tr>\n",
              "      <th>0</th>\n",
              "      <td>Healthcare Representative</td>\n",
              "      <td>393</td>\n",
              "    </tr>\n",
              "    <tr>\n",
              "      <th>1</th>\n",
              "      <td>Human Resources</td>\n",
              "      <td>156</td>\n",
              "    </tr>\n",
              "    <tr>\n",
              "      <th>2</th>\n",
              "      <td>Laboratory Technician</td>\n",
              "      <td>777</td>\n",
              "    </tr>\n",
              "    <tr>\n",
              "      <th>3</th>\n",
              "      <td>Manager</td>\n",
              "      <td>306</td>\n",
              "    </tr>\n",
              "    <tr>\n",
              "      <th>4</th>\n",
              "      <td>Manufacturing Director</td>\n",
              "      <td>435</td>\n",
              "    </tr>\n",
              "    <tr>\n",
              "      <th>5</th>\n",
              "      <td>Research Director</td>\n",
              "      <td>240</td>\n",
              "    </tr>\n",
              "    <tr>\n",
              "      <th>6</th>\n",
              "      <td>Research Scientist</td>\n",
              "      <td>876</td>\n",
              "    </tr>\n",
              "    <tr>\n",
              "      <th>7</th>\n",
              "      <td>Sales Executive</td>\n",
              "      <td>978</td>\n",
              "    </tr>\n",
              "    <tr>\n",
              "      <th>8</th>\n",
              "      <td>Sales Representative</td>\n",
              "      <td>249</td>\n",
              "    </tr>\n",
              "  </tbody>\n",
              "</table>\n",
              "</div>"
            ],
            "text/plain": [
              "                     JobRole  count(*)\n",
              "0  Healthcare Representative       393\n",
              "1            Human Resources       156\n",
              "2      Laboratory Technician       777\n",
              "3                    Manager       306\n",
              "4     Manufacturing Director       435\n",
              "5          Research Director       240\n",
              "6         Research Scientist       876\n",
              "7            Sales Executive       978\n",
              "8       Sales Representative       249"
            ]
          },
          "execution_count": 64,
          "metadata": {},
          "output_type": "execute_result"
        }
      ],
      "source": [
        "##Esta variable es la que tiene más categorias pero lo que representa son el cargo de cada representante por lo tanto se procede a dejarla asi.\n",
        "pd.read_sql(\"\"\"select  JobRole ,count(*)\n",
        "                            from base_nueva\n",
        "                            group by JobRole \"\"\", conn)"
      ]
    },
    {
      "cell_type": "code",
      "execution_count": 65,
      "metadata": {
        "colab": {
          "base_uri": "https://localhost:8080/",
          "height": 143
        },
        "id": "e9ZxBbv7nEwD",
        "outputId": "d7519b57-7429-4c7c-9b67-fc37f50b0caf"
      },
      "outputs": [
        {
          "data": {
            "text/html": [
              "<div>\n",
              "<style scoped>\n",
              "    .dataframe tbody tr th:only-of-type {\n",
              "        vertical-align: middle;\n",
              "    }\n",
              "\n",
              "    .dataframe tbody tr th {\n",
              "        vertical-align: top;\n",
              "    }\n",
              "\n",
              "    .dataframe thead th {\n",
              "        text-align: right;\n",
              "    }\n",
              "</style>\n",
              "<table border=\"1\" class=\"dataframe\">\n",
              "  <thead>\n",
              "    <tr style=\"text-align: right;\">\n",
              "      <th></th>\n",
              "      <th>MaritalStatus</th>\n",
              "      <th>count(*)</th>\n",
              "    </tr>\n",
              "  </thead>\n",
              "  <tbody>\n",
              "    <tr>\n",
              "      <th>0</th>\n",
              "      <td>Divorced</td>\n",
              "      <td>981</td>\n",
              "    </tr>\n",
              "    <tr>\n",
              "      <th>1</th>\n",
              "      <td>Married</td>\n",
              "      <td>2019</td>\n",
              "    </tr>\n",
              "    <tr>\n",
              "      <th>2</th>\n",
              "      <td>Single</td>\n",
              "      <td>1410</td>\n",
              "    </tr>\n",
              "  </tbody>\n",
              "</table>\n",
              "</div>"
            ],
            "text/plain": [
              "  MaritalStatus  count(*)\n",
              "0      Divorced       981\n",
              "1       Married      2019\n",
              "2        Single      1410"
            ]
          },
          "execution_count": 65,
          "metadata": {},
          "output_type": "execute_result"
        }
      ],
      "source": [
        "pd.read_sql(\"\"\"select MaritalStatus ,count(*)\n",
        "                            from base_nueva\n",
        "                            group by MaritalStatus \"\"\", conn)"
      ]
    },
    {
      "cell_type": "code",
      "execution_count": 66,
      "metadata": {
        "colab": {
          "base_uri": "https://localhost:8080/",
          "height": 80
        },
        "id": "YWvhXa8AnFSi",
        "outputId": "d47d1fe3-9a03-4605-c18d-8e895052d73b"
      },
      "outputs": [
        {
          "data": {
            "text/html": [
              "<div>\n",
              "<style scoped>\n",
              "    .dataframe tbody tr th:only-of-type {\n",
              "        vertical-align: middle;\n",
              "    }\n",
              "\n",
              "    .dataframe tbody tr th {\n",
              "        vertical-align: top;\n",
              "    }\n",
              "\n",
              "    .dataframe thead th {\n",
              "        text-align: right;\n",
              "    }\n",
              "</style>\n",
              "<table border=\"1\" class=\"dataframe\">\n",
              "  <thead>\n",
              "    <tr style=\"text-align: right;\">\n",
              "      <th></th>\n",
              "      <th>Over18</th>\n",
              "      <th>count(*)</th>\n",
              "    </tr>\n",
              "  </thead>\n",
              "  <tbody>\n",
              "    <tr>\n",
              "      <th>0</th>\n",
              "      <td>Y</td>\n",
              "      <td>4410</td>\n",
              "    </tr>\n",
              "  </tbody>\n",
              "</table>\n",
              "</div>"
            ],
            "text/plain": [
              "  Over18  count(*)\n",
              "0      Y      4410"
            ]
          },
          "execution_count": 66,
          "metadata": {},
          "output_type": "execute_result"
        }
      ],
      "source": [
        "##Esta variable tiene una sola categoria por lo que no aportaria al modelo y se debe eliminar.\n",
        "pd.read_sql(\"\"\"select  Over18 ,count(*)\n",
        "                            from base_nueva\n",
        "                            group by Over18 \"\"\", conn)"
      ]
    },
    {
      "cell_type": "code",
      "execution_count": 67,
      "metadata": {
        "colab": {
          "base_uri": "https://localhost:8080/",
          "height": 112
        },
        "id": "FpCQXa8_oCdS",
        "outputId": "e084fe8b-8f4c-4292-d49c-3c77581e0436"
      },
      "outputs": [
        {
          "data": {
            "text/html": [
              "<div>\n",
              "<style scoped>\n",
              "    .dataframe tbody tr th:only-of-type {\n",
              "        vertical-align: middle;\n",
              "    }\n",
              "\n",
              "    .dataframe tbody tr th {\n",
              "        vertical-align: top;\n",
              "    }\n",
              "\n",
              "    .dataframe thead th {\n",
              "        text-align: right;\n",
              "    }\n",
              "</style>\n",
              "<table border=\"1\" class=\"dataframe\">\n",
              "  <thead>\n",
              "    <tr style=\"text-align: right;\">\n",
              "      <th></th>\n",
              "      <th>Attrition</th>\n",
              "      <th>count(*)</th>\n",
              "    </tr>\n",
              "  </thead>\n",
              "  <tbody>\n",
              "    <tr>\n",
              "      <th>0</th>\n",
              "      <td>None</td>\n",
              "      <td>3699</td>\n",
              "    </tr>\n",
              "    <tr>\n",
              "      <th>1</th>\n",
              "      <td>Yes</td>\n",
              "      <td>711</td>\n",
              "    </tr>\n",
              "  </tbody>\n",
              "</table>\n",
              "</div>"
            ],
            "text/plain": [
              "  Attrition  count(*)\n",
              "0      None      3699\n",
              "1       Yes       711"
            ]
          },
          "execution_count": 67,
          "metadata": {},
          "output_type": "execute_result"
        }
      ],
      "source": [
        "##Esta variable en nuestra variable objetivo por lo tanto se debe convertir a numerica para que el modelo funcione mejor.\n",
        "pd.read_sql(\"\"\"select  Attrition ,count(*)\n",
        "                            from base_nueva\n",
        "                            group by Attrition \"\"\", conn)"
      ]
    },
    {
      "cell_type": "code",
      "execution_count": 68,
      "metadata": {
        "colab": {
          "base_uri": "https://localhost:8080/"
        },
        "id": "LISUfzPkpJWQ",
        "outputId": "7311d10f-0a23-4aee-bab1-0fdc0bb48b83"
      },
      "outputs": [
        {
          "data": {
            "text/plain": [
              "Age                           0\n",
              "BusinessTravel                0\n",
              "Department                    0\n",
              "DistanceFromHome              0\n",
              "Education                     0\n",
              "EducationField                0\n",
              "EmployeeCount                 0\n",
              "EmployeeID                    0\n",
              "Gender                        0\n",
              "JobLevel                      0\n",
              "JobRole                       0\n",
              "MaritalStatus                 0\n",
              "MonthlyIncome                 0\n",
              "NumCompaniesWorked           19\n",
              "Over18                        0\n",
              "PercentSalaryHike             0\n",
              "StandardHours                 0\n",
              "StockOptionLevel              0\n",
              "TotalWorkingYears             9\n",
              "TrainingTimesLastYear         0\n",
              "YearsAtCompany                0\n",
              "YearsSinceLastPromotion       0\n",
              "YearsWithCurrManager          0\n",
              "Attrition                  3699\n",
              "JobInvolvement                0\n",
              "PerformanceRating             0\n",
              "EnvironmentSatisfaction      25\n",
              "WorkLifeBalance              38\n",
              "JobSatisfaction              20\n",
              "dtype: int64"
            ]
          },
          "execution_count": 68,
          "metadata": {},
          "output_type": "execute_result"
        }
      ],
      "source": [
        "df2.isnull().sum()"
      ]
    },
    {
      "cell_type": "code",
      "execution_count": 53,
      "metadata": {
        "id": "zEdWsMZKvPFA"
      },
      "outputs": [],
      "source": [
        "##Se observa cuanto nulos tiene cada variable para más adelante proceder a la imputación (Esto se va a hacer en el archivo donde se crea el modelo).\n",
        "##El análisis de las variables numéricas se va a realizar en la parte de exploración de datos.\n",
        "##Se decide que las variables categóricas se van a rellenar con la moda que es el valor que más se repite.\n",
        "##La variable Attrition se reemplazan los nulos por la palabra No. Ya que nuestra variable objetivo nos va a decir si un empleado se fue o no y también se observa que esta un poco sesgada los datos entonces hay que hacerle una estandarización a la variable.\n",
        "##La variable numérica se van a rellenar con la mediana porque es una medida  que no se ve afectada por valores atípicos de los datos."
      ]
    }
  ],
  "metadata": {
    "colab": {
      "authorship_tag": "ABX9TyPXndQyheTEssANsRJJJ7gR",
      "include_colab_link": true,
      "provenance": []
    },
    "kernelspec": {
      "display_name": "Python 3",
      "name": "python3"
    },
    "language_info": {
      "codemirror_mode": {
        "name": "ipython",
        "version": 3
      },
      "file_extension": ".py",
      "mimetype": "text/x-python",
      "name": "python",
      "nbconvert_exporter": "python",
      "pygments_lexer": "ipython3",
      "version": "3.9.12"
    }
  },
  "nbformat": 4,
  "nbformat_minor": 0
}
